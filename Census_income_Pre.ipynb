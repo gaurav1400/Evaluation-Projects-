{
 "cells": [
  {
   "cell_type": "code",
   "execution_count": null,
   "id": "380638ab",
   "metadata": {},
   "outputs": [],
   "source": [
    "import pandas as pd\n",
    "import numpy as np\n",
    "import matplotlib.pyplot as plt\n",
    "import seaborn as sns\n",
    "%matplotlib inline\n",
    "\n",
    "from collections import Counter\n",
    "\n",
    "from sklearn.ensemble import RandomForestClassifier, AdaBoostClassifier, GradientBoostingClassifier, ExtraTreesClassifier, VotingClassifier\n",
    "from sklearn.discriminant_analysis import LinearDiscriminantAnalysis\n",
    "from sklearn.linear_model import LogisticRegression\n",
    "from sklearn.neighbors import KNeighborsClassifier\n",
    "from sklearn.tree import DecisionTreeClassifier\n",
    "from sklearn.neural_network import MLPClassifier\n",
    "from sklearn.naive_bayes import GaussianNB\n",
    "from sklearn.ensemble import RandomForestClassifier\n",
    "from sklearn.model_selection import GridSearchCV, cross_val_score, StratifiedKFold, learning_curve, train_test_split, KFold\n",
    "from sklearn.metrics import classification_report\n",
    "from sklearn.metrics import confusion_matrix\n",
    "from sklearn.metrics import accuracy_score\n",
    "\n",
    "sns.set(style='white', context='notebook', palette='deep')"
   ]
  },
  {
   "cell_type": "code",
   "execution_count": null,
   "id": "14ebf67c",
   "metadata": {},
   "outputs": [],
   "source": [
    "df=pd.read_csv('census_income.csv')\n",
    "df"
   ]
  },
  {
   "cell_type": "code",
   "execution_count": null,
   "id": "a4421995",
   "metadata": {},
   "outputs": [],
   "source": [
    "df.isnull().sum()"
   ]
  },
  {
   "cell_type": "code",
   "execution_count": null,
   "id": "c2d5dec1",
   "metadata": {},
   "outputs": [],
   "source": [
    "dataset = df.fillna(np.nan)"
   ]
  },
  {
   "cell_type": "code",
   "execution_count": null,
   "id": "18b73327",
   "metadata": {},
   "outputs": [],
   "source": [
    "df.dtypes"
   ]
  },
  {
   "cell_type": "code",
   "execution_count": null,
   "id": "5204d236",
   "metadata": {},
   "outputs": [],
   "source": [
    "df.head()"
   ]
  },
  {
   "cell_type": "code",
   "execution_count": null,
   "id": "4718cb8c",
   "metadata": {},
   "outputs": [],
   "source": [
    "df.tail()"
   ]
  },
  {
   "cell_type": "code",
   "execution_count": null,
   "id": "805d6138",
   "metadata": {},
   "outputs": [],
   "source": [
    "df.sample()"
   ]
  },
  {
   "cell_type": "code",
   "execution_count": null,
   "id": "af7e32d3",
   "metadata": {},
   "outputs": [],
   "source": [
    "# Reformat Column We Are Predicting\n",
    "df['income']=df['Income'].map({'<=50K': 0, '>50K': 1, '<=50K.': 0, '>50K.': 1})\n",
    "dataset.head(4)"
   ]
  },
  {
   "cell_type": "markdown",
   "id": "5bc3a747",
   "metadata": {},
   "source": [
    "# Lets Analyze Data"
   ]
  },
  {
   "cell_type": "code",
   "execution_count": null,
   "id": "14059e41",
   "metadata": {},
   "outputs": [],
   "source": [
    "# Identify Numeric features\n",
    "numeric_features = ['Age','Fnlwgt','Education.num','Capital.gain','Capital.loss','Hours.per.week','Income']\n",
    "\n",
    "# Identify Categorical features\n",
    "cat_features = ['Workclass','Education','Marital.status', 'Occupation', 'Relationship', 'Race', 'Sex', 'Native']"
   ]
  },
  {
   "cell_type": "code",
   "execution_count": null,
   "id": "7eaeba6a",
   "metadata": {},
   "outputs": [],
   "source": [
    "sns.histplot(df['Sex'],label=\"Count\")\n",
    "plt.show()"
   ]
  },
  {
   "cell_type": "code",
   "execution_count": null,
   "id": "12067d39",
   "metadata": {},
   "outputs": [],
   "source": [
    "sns.histplot(df['Race'],label='Count')\n",
    "plt.show()"
   ]
  },
  {
   "cell_type": "code",
   "execution_count": null,
   "id": "d82ff492",
   "metadata": {},
   "outputs": [],
   "source": [
    "# Explore Education Num vs Income\n",
    "g =sns.factorplot(x=\"Education.num\",y=\"Income\",data=dataset,kind=\"bar\",size = 6,palette = \"muted\")\n",
    "g.despine(left=True)\n",
    "g = g.set_ylabels(\">50K probability\")"
   ]
  },
  {
   "cell_type": "code",
   "execution_count": null,
   "id": "d3a7b1bc",
   "metadata": {},
   "outputs": [],
   "source": [
    "# Explore Age vs Income\n",
    "g = sns.FacetGrid(df, col='income')\n",
    "g = g.map(sns.distplot, \"age\")\n",
    "sns.plt.show()"
   ]
  },
  {
   "cell_type": "code",
   "execution_count": null,
   "id": "74329aee",
   "metadata": {},
   "outputs": [],
   "source": [
    "# Explore Sex vs Education\n",
    "g = sns.histplot(x=\"Sex\",y=\"Education\",data=df)\n",
    "g = g.set_ylabel(\"Education\")\n",
    "plt.show()"
   ]
  },
  {
   "cell_type": "code",
   "execution_count": null,
   "id": "8ffce810",
   "metadata": {},
   "outputs": [],
   "source": [
    "# Explore Workclass vs Income\n",
    "g = sns.factorplot(x=\"workclass\",y=\"income\",data=df,kind=\"bar\", size = 6 ,\n",
    "palette = \"muted\")\n",
    "g.despine(left=True)\n",
    "g = g.set_ylabels(\"Income >50K Probability\")\n",
    "plt.show()"
   ]
  },
  {
   "cell_type": "code",
   "execution_count": null,
   "id": "1329a7fa",
   "metadata": {},
   "outputs": [],
   "source": [
    "df[\"Sex\"] = df[\"Sex\"].map({\"Male\": 0, \"Female\":1})\n",
    "\n",
    "# Create Married Column - Binary Yes(1) or No(0)\n",
    "df[\"Marital_status\"] = df[\"Marital_status\"].replace(['Never-married','Divorced','Separated','Widowed'], 'Single')\n",
    "df[\"Marital_status\"] = df[\"Marital_status\"].replace(['Married-civ-spouse','Married-spouse-absent','Married-AF-spouse'], 'Married')\n",
    "df[\"Marital_status\"] = df[\"Marital_status\"].map({\"Married\":1, \"Single\":0})\n",
    "df[\"Marital_status\"] = df[\"Marital_status\"].astype(int)\n",
    "\n",
    "# Drop the data you don't want to use\n",
    "df.drop(labels=[\"Workclass\",\"Education\",\"Occupation\",\"Relationship\",\"Race\",\"Native.country\"], axis = 1, inplace = True)\n",
    "print('Dataset with Dropped Labels')\n",
    "print(df.head())"
   ]
  },
  {
   "cell_type": "markdown",
   "id": "7f63e82d",
   "metadata": {},
   "source": [
    "# Conclusion"
   ]
  },
  {
   "cell_type": "markdown",
   "id": "482c8668",
   "metadata": {},
   "source": [
    "White & Males are in Higher number there.I don't know why sns don't predict the factorplot which ,the data is based on"
   ]
  }
 ],
 "metadata": {
  "kernelspec": {
   "display_name": "Python 3 (ipykernel)",
   "language": "python",
   "name": "python3"
  },
  "language_info": {
   "codemirror_mode": {
    "name": "ipython",
    "version": 3
   },
   "file_extension": ".py",
   "mimetype": "text/x-python",
   "name": "python",
   "nbconvert_exporter": "python",
   "pygments_lexer": "ipython3",
   "version": "3.11.5"
  }
 },
 "nbformat": 4,
 "nbformat_minor": 5
}
